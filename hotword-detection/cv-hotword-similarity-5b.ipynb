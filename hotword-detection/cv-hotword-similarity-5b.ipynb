{
 "cells": [
  {
   "cell_type": "code",
   "execution_count": 1,
   "id": "27e7ffe6-a8ae-4994-8452-029dfee41ff2",
   "metadata": {},
   "outputs": [
    {
     "name": "stderr",
     "output_type": "stream",
     "text": [
      "C:\\Users\\lingy\\anaconda3\\envs\\HTX_\\lib\\site-packages\\sentence_transformers\\cross_encoder\\CrossEncoder.py:13: TqdmExperimentalWarning: Using `tqdm.autonotebook.tqdm` in notebook mode. Use `tqdm.tqdm` instead to force console mode (e.g. in jupyter console)\n",
      "  from tqdm.autonotebook import tqdm, trange\n"
     ]
    }
   ],
   "source": [
    "import pandas as pd\n",
    "import torch\n",
    "from sentence_transformers import SentenceTransformer\n",
    "from sklearn.metrics.pairwise import cosine_similarity\n",
    "import numpy as np"
   ]
  },
  {
   "cell_type": "code",
   "execution_count": 2,
   "id": "2bc376b4-15d5-47e2-8a59-3f4134cd82eb",
   "metadata": {},
   "outputs": [],
   "source": [
    "# Define the hot words (phrases) to detect\n",
    "hot_words = [\"be careful\", \"destroy\", \"stranger\"]"
   ]
  },
  {
   "cell_type": "code",
   "execution_count": 3,
   "id": "1dae6efb-800e-4caa-bec9-62c419a32b77",
   "metadata": {},
   "outputs": [],
   "source": [
    "# Load the pre-trained text embedding model (using sentence-transformers)\n",
    "model_name = \"hkunlp/instructor-large\" \n",
    "model = SentenceTransformer(model_name)"
   ]
  },
  {
   "cell_type": "code",
   "execution_count": 8,
   "id": "04666d01-b784-486c-a54c-5409ab0c88d8",
   "metadata": {},
   "outputs": [],
   "source": [
    "# Function to compute embeddings \n",
    "def compute_embedding(text):\n",
    "    if isinstance(text, str):\n",
    "        embedding = model.encode(text, convert_to_tensor=True)\n",
    "        return embedding\n",
    "    else:\n",
    "        raise ValueError(f\"Expected a string, got {type(text)}\")"
   ]
  },
  {
   "cell_type": "code",
   "execution_count": 9,
   "id": "769a5f9e-f8ab-4e78-a715-d918e404d6bb",
   "metadata": {},
   "outputs": [],
   "source": [
    "# Function to check similarity between the transcription and hot words\n",
    "def check_similarity(transcription, hot_words, threshold=0.9):\n",
    "    # Compute the embedding for the transcription\n",
    "    transcription_embedding = compute_embedding(transcription)\n",
    "    \n",
    "    # Check similarity with each hot word\n",
    "    for hot_word in hot_words:\n",
    "        # Compute the embedding for the hot word\n",
    "        hot_word_embedding = compute_embedding(hot_word)\n",
    "\n",
    "        # Reshape the transcription_embedding and hot_word_embedding (both 1D) into 2D arrays for cosine similarity (expects 2D arrays)\n",
    "        transcription_embedding_reshaped = transcription_embedding.cpu().numpy().reshape(1, -1)\n",
    "        hot_word_embedding_reshaped = hot_word_embedding.cpu().numpy().reshape(1, -1)\n",
    "        \n",
    "        # Calculate cosine similarity\n",
    "        similarity = cosine_similarity(transcription_embedding_reshaped, hot_word_embedding_reshaped)[0][0]\n",
    "        \n",
    "        # If the similarity exceeds the threshold, return True\n",
    "        if similarity > threshold:\n",
    "            return True\n",
    "    \n",
    "    # If no hot word exceeded the threshold, return False\n",
    "    return False"
   ]
  },
  {
   "cell_type": "code",
   "execution_count": 10,
   "id": "ffee4bb3-5ce8-487f-b9a9-6cf4e1761579",
   "metadata": {},
   "outputs": [],
   "source": [
    "# Path to the cv-valid-dev.csv file containing the transcriptions\n",
    "cv_valid_dev_path = \"C:/Users/lingy/OneDrive/Desktop/HTX/HTX_techtest/common_voice/cv-valid-dev.csv\"\n",
    "\n",
    "# Load the cv-valid-dev.csv file into a df\n",
    "df = pd.read_csv(cv_valid_dev_path)"
   ]
  },
  {
   "cell_type": "code",
   "execution_count": 12,
   "id": "149f45be-82b3-4f03-ba22-7a52242d089d",
   "metadata": {},
   "outputs": [
    {
     "name": "stdout",
     "output_type": "stream",
     "text": [
      "Invalid transcription text: nan\n"
     ]
    }
   ],
   "source": [
    "# Initialize a list to store similarity results (True or False)\n",
    "similarity_results = []\n",
    "\n",
    "# Iterate through the rows of the df to check for similarity\n",
    "for index, row in df.iterrows():\n",
    "    # Extract the transcription text from the 'generated_text_fine-tuned' column\n",
    "    transcription_text = row.get(\"generated_text_fine-tuned\", \"\")\n",
    "    \n",
    "    if isinstance(transcription_text, str):\n",
    "        is_similar = check_similarity(transcription_text, hot_words)\n",
    "    else:\n",
    "        print(f\"Invalid transcription text: {transcription_text}\")   \n",
    "    # Handle invalid case (e.g., skip, log, or default)\n",
    "    \n",
    "    # Check if the transcription contains any similar phrases to the hot words\n",
    "    #is_similar = check_similarity(transcription_text, hot_words)\n",
    "    \n",
    "    # Append the result to the list\n",
    "    similarity_results.append(is_similar)"
   ]
  },
  {
   "cell_type": "code",
   "execution_count": 13,
   "id": "6534e05d-5a85-4546-84ac-50e1295eab09",
   "metadata": {},
   "outputs": [
    {
     "name": "stdout",
     "output_type": "stream",
     "text": [
      "cv-valid-dev.csv updated with similarity and saved to C:/Users/lingy/OneDrive/Desktop/HTX/HTX_techtest/common_voice/cv-valid-dev.csv\n"
     ]
    }
   ],
   "source": [
    "# Add the similarity results to a new column \n",
    "df['similarity'] = similarity_results\n",
    "\n",
    "# Save the updated df to cv-valid-dev.csv \n",
    "output_file_path = \"C:/Users/lingy/OneDrive/Desktop/HTX/HTX_techtest/common_voice/cv-valid-dev.csv\"  \n",
    "df.to_csv(output_file_path, index=False)\n",
    "\n",
    "print(f\"cv-valid-dev.csv updated with similarity and saved to {output_file_path}\")"
   ]
  },
  {
   "cell_type": "code",
   "execution_count": 16,
   "id": "36faef0b-8fef-4285-854e-5f5922bb761f",
   "metadata": {},
   "outputs": [
    {
     "data": {
      "text/plain": [
       "6"
      ]
     },
     "execution_count": 16,
     "metadata": {},
     "output_type": "execute_result"
    }
   ],
   "source": [
    "df['similarity'].sum()"
   ]
  },
  {
   "cell_type": "code",
   "execution_count": null,
   "id": "b0dd3cce-8b37-4386-bd1a-900513917860",
   "metadata": {},
   "outputs": [],
   "source": []
  }
 ],
 "metadata": {
  "kernelspec": {
   "display_name": "Python 3 (ipykernel)",
   "language": "python",
   "name": "python3"
  },
  "language_info": {
   "codemirror_mode": {
    "name": "ipython",
    "version": 3
   },
   "file_extension": ".py",
   "mimetype": "text/x-python",
   "name": "python",
   "nbconvert_exporter": "python",
   "pygments_lexer": "ipython3",
   "version": "3.8.20"
  }
 },
 "nbformat": 4,
 "nbformat_minor": 5
}
