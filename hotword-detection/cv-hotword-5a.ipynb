{
 "cells": [
  {
   "cell_type": "markdown",
   "id": "26c0f9f9-b961-4926-9ce9-fe20580943f6",
   "metadata": {},
   "source": [
    "##### Q5a.) Using the transcribed results from cv-valid-dev mp3 dataset using your finetuned model in task 4, the hot words to be detected are: “be careful”, “destroy” and “stranger”. Save the list of mp3 filenames with the hot words detected into detected.txt. Write a python jupyter notebook called cv-hotword-5a.ipynb for this task."
   ]
  },
  {
   "cell_type": "code",
   "execution_count": 1,
   "id": "716429a7-7bca-41c8-a9c4-d2904c8f2770",
   "metadata": {},
   "outputs": [],
   "source": [
    "import pandas as pd"
   ]
  },
  {
   "cell_type": "code",
   "execution_count": 2,
   "id": "2a0446a4-3602-4a58-9ca1-fa70c2efe1e2",
   "metadata": {},
   "outputs": [],
   "source": [
    "# Define the hot words to detect\n",
    "hot_words = [\"be careful\", \"destroy\", \"stranger\"]"
   ]
  },
  {
   "cell_type": "code",
   "execution_count": 16,
   "id": "fd0fd6a0-eb90-4a00-9755-c63ebe4bc31c",
   "metadata": {},
   "outputs": [],
   "source": [
    "# Function to check if any of the hot words are present in the transcription\n",
    "def detect_hot_words(transcription, hot_words):\n",
    "    # Ensure that transcription is a string before calling .lower()\n",
    "    if isinstance(transcription, str):\n",
    "        transcription_lower = transcription.lower()\n",
    "        for word in hot_words:\n",
    "            if word.lower() in transcription_lower:\n",
    "                return True\n",
    "        return False"
   ]
  },
  {
   "cell_type": "code",
   "execution_count": 17,
   "id": "159f77b0-b356-4d25-9911-6f8229a4a668",
   "metadata": {},
   "outputs": [],
   "source": [
    "# Path to the cv-valid-dev.csv file containing the transcriptions stored under column \"generated_text_fine-tuned\"\n",
    "csv_file_path = \"C:/Users/lingy/OneDrive/Desktop/HTX/HTX_techtest/common_voice/cv-valid-dev.csv\" "
   ]
  },
  {
   "cell_type": "code",
   "execution_count": 18,
   "id": "53901f55-6b55-4261-b26a-ac29ace44e72",
   "metadata": {},
   "outputs": [],
   "source": [
    "# Load the CSV file into a pandas DataFrame\n",
    "df = pd.read_csv(csv_file_path)"
   ]
  },
  {
   "cell_type": "code",
   "execution_count": 19,
   "id": "111629e8-d0ee-4898-b1d8-94bc33dfb5a3",
   "metadata": {},
   "outputs": [],
   "source": [
    "# Initialize a list to store filenames of MP3s with hot words detected\n",
    "detected_files = []\n",
    "\n",
    "# Iterate through the rows of the df\n",
    "for index, row in df.iterrows():\n",
    "    # Extract the transcription text from the 'generated_text_fine-tuned' column\n",
    "    transcription_text = row.get(\"generated_text_fine-tuned\")\n",
    "    \n",
    "    # Extract the filename (assuming filenames are in a column called 'filename')\n",
    "    mp3_filename = row.get(\"filename\")\n",
    "    \n",
    "    # Check if any of the hot words are detected in the transcription\n",
    "    if detect_hot_words(transcription_text, hot_words):\n",
    "        # If hot words detected, add the corresponding MP3 filename\n",
    "        detected_files.append(mp3_filename)"
   ]
  },
  {
   "cell_type": "code",
   "execution_count": 23,
   "id": "2f18fc8c-48d6-42dc-a831-ed4221422e88",
   "metadata": {},
   "outputs": [
    {
     "data": {
      "text/plain": [
       "['C:/Users/lingy/OneDrive/Desktop/HTX/HTX_techtest/common_voice/cv-valid-dev/cv-valid-dev/sample-000000.mp3',\n",
       " 'C:/Users/lingy/OneDrive/Desktop/HTX/HTX_techtest/common_voice/cv-valid-dev/cv-valid-dev/sample-000003.mp3',\n",
       " 'C:/Users/lingy/OneDrive/Desktop/HTX/HTX_techtest/common_voice/cv-valid-dev/cv-valid-dev/sample-000089.mp3',\n",
       " 'C:/Users/lingy/OneDrive/Desktop/HTX/HTX_techtest/common_voice/cv-valid-dev/cv-valid-dev/sample-000508.mp3',\n",
       " 'C:/Users/lingy/OneDrive/Desktop/HTX/HTX_techtest/common_voice/cv-valid-dev/cv-valid-dev/sample-000674.mp3',\n",
       " 'C:/Users/lingy/OneDrive/Desktop/HTX/HTX_techtest/common_voice/cv-valid-dev/cv-valid-dev/sample-001093.mp3',\n",
       " 'C:/Users/lingy/OneDrive/Desktop/HTX/HTX_techtest/common_voice/cv-valid-dev/cv-valid-dev/sample-001101.mp3',\n",
       " 'C:/Users/lingy/OneDrive/Desktop/HTX/HTX_techtest/common_voice/cv-valid-dev/cv-valid-dev/sample-001243.mp3',\n",
       " 'C:/Users/lingy/OneDrive/Desktop/HTX/HTX_techtest/common_voice/cv-valid-dev/cv-valid-dev/sample-001501.mp3',\n",
       " 'C:/Users/lingy/OneDrive/Desktop/HTX/HTX_techtest/common_voice/cv-valid-dev/cv-valid-dev/sample-001933.mp3',\n",
       " 'C:/Users/lingy/OneDrive/Desktop/HTX/HTX_techtest/common_voice/cv-valid-dev/cv-valid-dev/sample-002405.mp3',\n",
       " 'C:/Users/lingy/OneDrive/Desktop/HTX/HTX_techtest/common_voice/cv-valid-dev/cv-valid-dev/sample-002453.mp3',\n",
       " 'C:/Users/lingy/OneDrive/Desktop/HTX/HTX_techtest/common_voice/cv-valid-dev/cv-valid-dev/sample-003065.mp3',\n",
       " 'C:/Users/lingy/OneDrive/Desktop/HTX/HTX_techtest/common_voice/cv-valid-dev/cv-valid-dev/sample-003219.mp3',\n",
       " 'C:/Users/lingy/OneDrive/Desktop/HTX/HTX_techtest/common_voice/cv-valid-dev/cv-valid-dev/sample-003808.mp3']"
      ]
     },
     "execution_count": 23,
     "metadata": {},
     "output_type": "execute_result"
    }
   ],
   "source": [
    "detected_files"
   ]
  },
  {
   "cell_type": "code",
   "execution_count": 26,
   "id": "0b1c3984-d234-4234-bc7c-ba3169366771",
   "metadata": {},
   "outputs": [
    {
     "name": "stdout",
     "output_type": "stream",
     "text": [
      "Hot words detected in 15 mp3 files. Detected mp3 filenames saved as detected.txt.\n"
     ]
    }
   ],
   "source": [
    "# Save the list of mps filenames with the hot words detected into detected.txt.\n",
    "with open(\"detected.txt\", \"w\") as output_file:\n",
    "    for mp3_filename in detected_files:\n",
    "        mp3_filename = mp3_filename.split('/')[-1]\n",
    "        output_file.write(mp3_filename + \"\\n\")\n",
    "\n",
    "print(f\"Hot words detected in {len(detected_files)} mp3 files. Detected mp3 filenames saved as detected.txt.\")"
   ]
  }
 ],
 "metadata": {
  "kernelspec": {
   "display_name": "Python 3 (ipykernel)",
   "language": "python",
   "name": "python3"
  },
  "language_info": {
   "codemirror_mode": {
    "name": "ipython",
    "version": 3
   },
   "file_extension": ".py",
   "mimetype": "text/x-python",
   "name": "python",
   "nbconvert_exporter": "python",
   "pygments_lexer": "ipython3",
   "version": "3.8.20"
  }
 },
 "nbformat": 4,
 "nbformat_minor": 5
}
